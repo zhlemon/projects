{
 "cells": [
  {
   "cell_type": "markdown",
   "id": "aec51454",
   "metadata": {},
   "source": [
    "# Recommender Case"
   ]
  },
  {
   "cell_type": "code",
   "execution_count": 1,
   "id": "e02ae7ce",
   "metadata": {},
   "outputs": [],
   "source": [
    "import pandas as pd\n",
    "import numpy as np\n",
    "from sklearn.metrics.pairwise import cosine_similarity\n",
    "from scipy import sparse\n",
    "from sklearn.preprocessing import LabelEncoder, StandardScaler\n",
    "import hdbscan\n",
    "from sklearn.cluster import KMeans\n",
    "import logging\n",
    "import matplotlib.pyplot as plt\n",
    "%matplotlib inline\n",
    "\n",
    "import ipywidgets as widgets\n",
    "from IPython.display import display"
   ]
  },
  {
   "cell_type": "code",
   "execution_count": 2,
   "id": "291abd12",
   "metadata": {},
   "outputs": [],
   "source": [
    "# Load the purchase history data into a DataFrame\n",
    "df_product = pd.read_excel('customer_sales.xlsx', sheet_name='product')\n",
    "df_customer = pd.read_excel('customer_sales.xlsx', sheet_name='customer')\n",
    "df_sales = pd.read_excel('customer_sales.xlsx', sheet_name='sales')"
   ]
  },
  {
   "cell_type": "markdown",
   "id": "60e99bb8",
   "metadata": {},
   "source": [
    "# Understanding the dataset"
   ]
  },
  {
   "cell_type": "code",
   "execution_count": 3,
   "id": "fe3aae48",
   "metadata": {},
   "outputs": [
    {
     "data": {
      "text/html": [
       "<div>\n",
       "<style scoped>\n",
       "    .dataframe tbody tr th:only-of-type {\n",
       "        vertical-align: middle;\n",
       "    }\n",
       "\n",
       "    .dataframe tbody tr th {\n",
       "        vertical-align: top;\n",
       "    }\n",
       "\n",
       "    .dataframe thead th {\n",
       "        text-align: right;\n",
       "    }\n",
       "</style>\n",
       "<table border=\"1\" class=\"dataframe\">\n",
       "  <thead>\n",
       "    <tr style=\"text-align: right;\">\n",
       "      <th></th>\n",
       "      <th>ID_Product</th>\n",
       "      <th>ID_Customer</th>\n",
       "      <th>Sales</th>\n",
       "      <th>Revenue</th>\n",
       "      <th>Data</th>\n",
       "    </tr>\n",
       "  </thead>\n",
       "  <tbody>\n",
       "    <tr>\n",
       "      <th>0</th>\n",
       "      <td>it002879</td>\n",
       "      <td>cr000347</td>\n",
       "      <td>1.0</td>\n",
       "      <td>102.0</td>\n",
       "      <td>2021-06-15</td>\n",
       "    </tr>\n",
       "    <tr>\n",
       "      <th>1</th>\n",
       "      <td>it002879</td>\n",
       "      <td>cr000751</td>\n",
       "      <td>3.0</td>\n",
       "      <td>402.0</td>\n",
       "      <td>2022-09-22</td>\n",
       "    </tr>\n",
       "    <tr>\n",
       "      <th>2</th>\n",
       "      <td>it004560</td>\n",
       "      <td>cr000371</td>\n",
       "      <td>1.0</td>\n",
       "      <td>467.0</td>\n",
       "      <td>2022-10-05</td>\n",
       "    </tr>\n",
       "    <tr>\n",
       "      <th>3</th>\n",
       "      <td>it004560</td>\n",
       "      <td>cr000371</td>\n",
       "      <td>2.0</td>\n",
       "      <td>920.0</td>\n",
       "      <td>2022-10-31</td>\n",
       "    </tr>\n",
       "    <tr>\n",
       "      <th>4</th>\n",
       "      <td>it004135</td>\n",
       "      <td>cr000131</td>\n",
       "      <td>1.0</td>\n",
       "      <td>262.0</td>\n",
       "      <td>2021-02-25</td>\n",
       "    </tr>\n",
       "  </tbody>\n",
       "</table>\n",
       "</div>"
      ],
      "text/plain": [
       "  ID_Product ID_Customer  Sales  Revenue       Data\n",
       "0   it002879    cr000347    1.0    102.0 2021-06-15\n",
       "1   it002879    cr000751    3.0    402.0 2022-09-22\n",
       "2   it004560    cr000371    1.0    467.0 2022-10-05\n",
       "3   it004560    cr000371    2.0    920.0 2022-10-31\n",
       "4   it004135    cr000131    1.0    262.0 2021-02-25"
      ]
     },
     "execution_count": 3,
     "metadata": {},
     "output_type": "execute_result"
    }
   ],
   "source": [
    "df_sales.head()"
   ]
  },
  {
   "cell_type": "markdown",
   "id": "e3cb5b5a",
   "metadata": {},
   "source": [
    "# Data preprocessing"
   ]
  },
  {
   "cell_type": "code",
   "execution_count": 4,
   "id": "b417b897",
   "metadata": {},
   "outputs": [],
   "source": [
    "df_sales['OrdFreqPerMonth'] = ((df_sales.groupby('ID_Customer')['Data'].transform('max') \\\n",
    "                                    -df_sales.groupby('ID_Customer')['Data'].transform('min')).dt.days/30).astype(int)"
   ]
  },
  {
   "cell_type": "code",
   "execution_count": 5,
   "id": "922b4130",
   "metadata": {},
   "outputs": [],
   "source": [
    "# Preparation customers table for colaborative filtering\n",
    "customers = ((df_sales.groupby(['ID_Customer']).agg({'Revenue': 'sum', 'OrdFreqPerMonth' : 'mean'})) \\\n",
    "             .join(df_customer.set_index('ID_Customer'), on='ID_Customer', how=\"left\"))\n",
    "customers = customers[['Business Area', 'Region', 'Revenue', 'OrdFreqPerMonth']]"
   ]
  },
  {
   "cell_type": "code",
   "execution_count": 6,
   "id": "ee607442",
   "metadata": {},
   "outputs": [],
   "source": [
    "# Apply LabelEncoder to each categorical column\n",
    "le= LabelEncoder()\n",
    "for col in ['Business Area', 'Region']:\n",
    "    customers[col] = le.fit_transform(customers[col])"
   ]
  },
  {
   "cell_type": "code",
   "execution_count": 7,
   "id": "cf2a8fe8",
   "metadata": {},
   "outputs": [],
   "source": [
    "# Data scaling\n",
    "customers[['Business Area', 'Region','Revenue','OrdFreqPerMonth']] = \\\n",
    "                        StandardScaler().fit_transform(customers[['Business Area', 'Region','Revenue','OrdFreqPerMonth']])"
   ]
  },
  {
   "cell_type": "code",
   "execution_count": 8,
   "id": "4a43566d",
   "metadata": {},
   "outputs": [
    {
     "data": {
      "text/html": [
       "<div>\n",
       "<style scoped>\n",
       "    .dataframe tbody tr th:only-of-type {\n",
       "        vertical-align: middle;\n",
       "    }\n",
       "\n",
       "    .dataframe tbody tr th {\n",
       "        vertical-align: top;\n",
       "    }\n",
       "\n",
       "    .dataframe thead th {\n",
       "        text-align: right;\n",
       "    }\n",
       "</style>\n",
       "<table border=\"1\" class=\"dataframe\">\n",
       "  <thead>\n",
       "    <tr style=\"text-align: right;\">\n",
       "      <th></th>\n",
       "      <th>Business Area</th>\n",
       "      <th>Region</th>\n",
       "      <th>Revenue</th>\n",
       "      <th>OrdFreqPerMonth</th>\n",
       "    </tr>\n",
       "    <tr>\n",
       "      <th>ID_Customer</th>\n",
       "      <th></th>\n",
       "      <th></th>\n",
       "      <th></th>\n",
       "      <th></th>\n",
       "    </tr>\n",
       "  </thead>\n",
       "  <tbody>\n",
       "    <tr>\n",
       "      <th>cr000122</th>\n",
       "      <td>-0.857779</td>\n",
       "      <td>0.288102</td>\n",
       "      <td>-0.376376</td>\n",
       "      <td>-0.129301</td>\n",
       "    </tr>\n",
       "    <tr>\n",
       "      <th>cr000123</th>\n",
       "      <td>0.791218</td>\n",
       "      <td>0.449255</td>\n",
       "      <td>-0.466166</td>\n",
       "      <td>-1.437485</td>\n",
       "    </tr>\n",
       "    <tr>\n",
       "      <th>cr000124</th>\n",
       "      <td>1.615716</td>\n",
       "      <td>0.288102</td>\n",
       "      <td>-0.481662</td>\n",
       "      <td>-1.556410</td>\n",
       "    </tr>\n",
       "    <tr>\n",
       "      <th>cr000125</th>\n",
       "      <td>-0.857779</td>\n",
       "      <td>-1.968034</td>\n",
       "      <td>-0.059135</td>\n",
       "      <td>1.297809</td>\n",
       "    </tr>\n",
       "    <tr>\n",
       "      <th>cr000126</th>\n",
       "      <td>0.791218</td>\n",
       "      <td>0.288102</td>\n",
       "      <td>-0.331118</td>\n",
       "      <td>0.227477</td>\n",
       "    </tr>\n",
       "  </tbody>\n",
       "</table>\n",
       "</div>"
      ],
      "text/plain": [
       "             Business Area    Region   Revenue  OrdFreqPerMonth\n",
       "ID_Customer                                                    \n",
       "cr000122         -0.857779  0.288102 -0.376376        -0.129301\n",
       "cr000123          0.791218  0.449255 -0.466166        -1.437485\n",
       "cr000124          1.615716  0.288102 -0.481662        -1.556410\n",
       "cr000125         -0.857779 -1.968034 -0.059135         1.297809\n",
       "cr000126          0.791218  0.288102 -0.331118         0.227477"
      ]
     },
     "execution_count": 8,
     "metadata": {},
     "output_type": "execute_result"
    }
   ],
   "source": [
    "customers.head()"
   ]
  },
  {
   "cell_type": "code",
   "execution_count": 9,
   "id": "dbe9dde4",
   "metadata": {},
   "outputs": [
    {
     "data": {
      "text/plain": [
       "(768, 4)"
      ]
     },
     "execution_count": 9,
     "metadata": {},
     "output_type": "execute_result"
    }
   ],
   "source": [
    "customers.shape"
   ]
  },
  {
   "cell_type": "markdown",
   "id": "55b59eef",
   "metadata": {},
   "source": [
    "# Finding clusters for colaborative filtering model"
   ]
  },
  {
   "cell_type": "code",
   "execution_count": 10,
   "id": "8b8fd515",
   "metadata": {},
   "outputs": [],
   "source": [
    "def try_different_clusters(K, data):\n",
    "\n",
    "    cluster_values = list(range(1, K+1))\n",
    "    inertias=[]\n",
    "\n",
    "    for c in cluster_values:\n",
    "        model = KMeans(n_clusters = c, init='k-means++', n_init='auto', max_iter=400, random_state=42)\n",
    "        model.fit(data)\n",
    "        inertias.append(model.inertia_)\n",
    "\n",
    "    return inertias"
   ]
  },
  {
   "cell_type": "code",
   "execution_count": 11,
   "id": "0875ba75",
   "metadata": {},
   "outputs": [],
   "source": [
    "outputs = try_different_clusters(10, customers)\n",
    "distances = pd.DataFrame({\"clusters\": list(range(1, 11)), 'sum of squared distances ' : outputs})"
   ]
  },
  {
   "cell_type": "code",
   "execution_count": 12,
   "id": "441a5d5a",
   "metadata": {},
   "outputs": [
    {
     "data": {
      "image/png": "[encoded data removed]",
      "text/plain": [
       "<Figure size 600x300 with 1 Axes>"
      ]
     },
     "metadata": {},
     "output_type": "display_data"
    }
   ],
   "source": [
    "plt.figure(figsize=(6, 3),dpi=100)\n",
    "plt.plot(range(1, 11), outputs, marker='o')\n",
    "plt.xlabel('Clusters')\n",
    "plt.ylabel('Inertia')\n",
    "plt.title('K-means Clustering Curve')\n",
    "\n",
    "plt.grid(True)\n",
    "plt.show()"
   ]
  },
  {
   "cell_type": "code",
   "execution_count": 13,
   "id": "26ee80bf",
   "metadata": {},
   "outputs": [
    {
     "name": "stdout",
     "output_type": "stream",
     "text": [
      "Best DBCV score: 0.228\n",
      "Best parameters: {'min_cluster_size': 7, ' min_samples': 5, 'cluster_selection_method': 'eom', 'metric': 'euclidean'}\n"
     ]
    }
   ],
   "source": [
    "# Find optimal number of clusters\n",
    "best_score = 0\n",
    "\n",
    "for min_cluster_size in [2,3,4,5,6,7,8,9,10]:\n",
    "    for min_samples in [3,5,10,30,50]:\n",
    "        for cluster_selection_method in ['eom','leaf']:\n",
    "            for metric in ['euclidean']:\n",
    "                # for each combination of parameters of hdbscan\n",
    "                hdb = hdbscan.HDBSCAN(min_cluster_size=min_cluster_size,min_samples=min_samples,\n",
    "                                      cluster_selection_method=cluster_selection_method, metric=metric, \n",
    "                                      gen_min_span_tree=True).fit(customers)\n",
    "                # DBCV score\n",
    "                score = hdb.relative_validity_\n",
    "                # if we got a better DBCV, store it and the parameters\n",
    "                if score > best_score:\n",
    "                    best_score = score\n",
    "                    best_parameters = {'min_cluster_size': min_cluster_size, \n",
    "                               ' min_samples':  min_samples, 'cluster_selection_method': cluster_selection_method,\n",
    "                              'metric': metric}\n",
    "\n",
    "print(\"Best DBCV score: {:.3f}\".format(best_score))\n",
    "print(\"Best parameters: {}\".format(best_parameters))"
   ]
  },
  {
   "cell_type": "code",
   "execution_count": 14,
   "id": "548986be",
   "metadata": {},
   "outputs": [],
   "source": [
    "n_clusters_ = best_parameters['min_cluster_size']\n",
    "\n",
    "kmeans_model_new = KMeans(n_clusters = n_clusters_, n_init=10, init='k-means++', max_iter=400, random_state=42)"
   ]
  },
  {
   "cell_type": "code",
   "execution_count": 15,
   "id": "a359c659",
   "metadata": {},
   "outputs": [],
   "source": [
    "customers['Cluster'] = kmeans_model_new.fit_predict(customers)"
   ]
  },
  {
   "cell_type": "code",
   "execution_count": 16,
   "id": "40c14108",
   "metadata": {},
   "outputs": [
    {
     "data": {
      "text/html": [
       "<div>\n",
       "<style scoped>\n",
       "    .dataframe tbody tr th:only-of-type {\n",
       "        vertical-align: middle;\n",
       "    }\n",
       "\n",
       "    .dataframe tbody tr th {\n",
       "        vertical-align: top;\n",
       "    }\n",
       "\n",
       "    .dataframe thead th {\n",
       "        text-align: right;\n",
       "    }\n",
       "</style>\n",
       "<table border=\"1\" class=\"dataframe\">\n",
       "  <thead>\n",
       "    <tr style=\"text-align: right;\">\n",
       "      <th></th>\n",
       "      <th>Business Area</th>\n",
       "      <th>Region</th>\n",
       "      <th>Revenue</th>\n",
       "      <th>OrdFreqPerMonth</th>\n",
       "      <th>Cluster</th>\n",
       "    </tr>\n",
       "    <tr>\n",
       "      <th>ID_Customer</th>\n",
       "      <th></th>\n",
       "      <th></th>\n",
       "      <th></th>\n",
       "      <th></th>\n",
       "      <th></th>\n",
       "    </tr>\n",
       "  </thead>\n",
       "  <tbody>\n",
       "    <tr>\n",
       "      <th>cr000122</th>\n",
       "      <td>-0.857779</td>\n",
       "      <td>0.288102</td>\n",
       "      <td>-0.376376</td>\n",
       "      <td>-0.129301</td>\n",
       "      <td>1</td>\n",
       "    </tr>\n",
       "    <tr>\n",
       "      <th>cr000123</th>\n",
       "      <td>0.791218</td>\n",
       "      <td>0.449255</td>\n",
       "      <td>-0.466166</td>\n",
       "      <td>-1.437485</td>\n",
       "      <td>3</td>\n",
       "    </tr>\n",
       "    <tr>\n",
       "      <th>cr000124</th>\n",
       "      <td>1.615716</td>\n",
       "      <td>0.288102</td>\n",
       "      <td>-0.481662</td>\n",
       "      <td>-1.556410</td>\n",
       "      <td>3</td>\n",
       "    </tr>\n",
       "    <tr>\n",
       "      <th>cr000125</th>\n",
       "      <td>-0.857779</td>\n",
       "      <td>-1.968034</td>\n",
       "      <td>-0.059135</td>\n",
       "      <td>1.297809</td>\n",
       "      <td>0</td>\n",
       "    </tr>\n",
       "    <tr>\n",
       "      <th>cr000126</th>\n",
       "      <td>0.791218</td>\n",
       "      <td>0.288102</td>\n",
       "      <td>-0.331118</td>\n",
       "      <td>0.227477</td>\n",
       "      <td>6</td>\n",
       "    </tr>\n",
       "  </tbody>\n",
       "</table>\n",
       "</div>"
      ],
      "text/plain": [
       "             Business Area    Region   Revenue  OrdFreqPerMonth  Cluster\n",
       "ID_Customer                                                             \n",
       "cr000122         -0.857779  0.288102 -0.376376        -0.129301        1\n",
       "cr000123          0.791218  0.449255 -0.466166        -1.437485        3\n",
       "cr000124          1.615716  0.288102 -0.481662        -1.556410        3\n",
       "cr000125         -0.857779 -1.968034 -0.059135         1.297809        0\n",
       "cr000126          0.791218  0.288102 -0.331118         0.227477        6"
      ]
     },
     "execution_count": 16,
     "metadata": {},
     "output_type": "execute_result"
    }
   ],
   "source": [
    "customers.head()"
   ]
  },
  {
   "cell_type": "markdown",
   "id": "09359b49",
   "metadata": {},
   "source": [
    "# Data for recommender preparation"
   ]
  },
  {
   "cell_type": "code",
   "execution_count": 17,
   "id": "6cdddcb0",
   "metadata": {},
   "outputs": [],
   "source": [
    "# Dict for drop down periods list"
   ]
  },
  {
   "cell_type": "code",
   "execution_count": 18,
   "id": "18c8f179",
   "metadata": {},
   "outputs": [],
   "source": [
    "periods = {\"1 Month\": 30,\"3 Months\": 90,\"6 Months\": 180,\"12 Months\": 365,\"24 Months\": 730}"
   ]
  },
  {
   "cell_type": "code",
   "execution_count": 19,
   "id": "2338ca36",
   "metadata": {},
   "outputs": [
    {
     "name": "stdout",
     "output_type": "stream",
     "text": [
      "Please select options and accept it:\n"
     ]
    },
    {
     "data": {
      "application/vnd.jupyter.widget-view+json": {
       "model_id": "cbd9e90fb1c94797b463dae791d7f570",
       "version_major": 2,
       "version_minor": 0
      },
      "text/plain": [
       "Dropdown(description='Customer:', options=('cr000122', 'cr000123', 'cr000124', 'cr000125', 'cr000126', 'cr0001…"
      ]
     },
     "metadata": {},
     "output_type": "display_data"
    },
    {
     "data": {
      "application/vnd.jupyter.widget-view+json": {
       "model_id": "a8c97a2a63444852bb981cf35f42d177",
       "version_major": 2,
       "version_minor": 0
      },
      "text/plain": [
       "Dropdown(description='Period:', options=('1 Month', '3 Months', '6 Months', '12 Months', '24 Months'), value='…"
      ]
     },
     "metadata": {},
     "output_type": "display_data"
    },
    {
     "data": {
      "application/vnd.jupyter.widget-view+json": {
       "model_id": "bb24a5898d0e42ebb18d6abbe31ceb2f",
       "version_major": 2,
       "version_minor": 0
      },
      "text/plain": [
       "Button(description='Accept Selection', style=ButtonStyle())"
      ]
     },
     "metadata": {},
     "output_type": "display_data"
    },
    {
     "data": {
      "application/vnd.jupyter.widget-view+json": {
       "model_id": "50103e4f059d44c7833c2ed82bc1c1f9",
       "version_major": 2,
       "version_minor": 0
      },
      "text/plain": [
       "Output()"
      ]
     },
     "metadata": {},
     "output_type": "display_data"
    }
   ],
   "source": [
    "# Define dropdown widgets\n",
    "dropdown1 = widgets.Dropdown(\n",
    "    options=customers.index,\n",
    "    description='Customer:'\n",
    ")\n",
    "\n",
    "dropdown2 = widgets.Dropdown(\n",
    "    options=list(periods.keys()),\n",
    "    description='Period:'\n",
    ")\n",
    "\n",
    "# Define button widget\n",
    "button = widgets.Button(description=\"Accept Selection\")\n",
    "\n",
    "# Define output widget\n",
    "output_result = widgets.Output()\n",
    "\n",
    "# Global variable to store the result\n",
    "result_data = None\n",
    "\n",
    "# Define function to handle button click event\n",
    "def on_button_click(b):\n",
    "    global result_data\n",
    "    selected_value_dropdown1 = dropdown1.value\n",
    "    selected_value_dropdown2 = dropdown2.value\n",
    "    \n",
    "    # Construct the result dictionary\n",
    "    result = {\n",
    "        'Customer': selected_value_dropdown1,\n",
    "        'Period': selected_value_dropdown2\n",
    "    }\n",
    "    \n",
    "    # Store the result data in the global variable\n",
    "    result_data = result\n",
    "    \n",
    "    # Display the result dictionary along with selected options\n",
    "    with output_result:\n",
    "        output_result.clear_output()\n",
    "        print(\"Selected Values:\")\n",
    "        print(\"Customer:\", selected_value_dropdown1)\n",
    "        print(\"Period  :\", selected_value_dropdown2)\n",
    "\n",
    "# Link button click event to the function\n",
    "button.on_click(on_button_click)\n",
    "\n",
    "# Display the widgets\n",
    "print(\"Please select options and accept it:\")\n",
    "display(dropdown1)\n",
    "display(dropdown2)\n",
    "display(button)\n",
    "display(output_result)"
   ]
  },
  {
   "cell_type": "code",
   "execution_count": 20,
   "id": "d41b8b0d",
   "metadata": {},
   "outputs": [],
   "source": [
    "#Preparation for filtering table by customer and period after selection"
   ]
  },
  {
   "cell_type": "code",
   "execution_count": 21,
   "id": "5fe5b176",
   "metadata": {},
   "outputs": [],
   "source": [
    "selected_customer = list(result_data.values())[0]"
   ]
  },
  {
   "cell_type": "code",
   "execution_count": 22,
   "id": "656a1cf3",
   "metadata": {},
   "outputs": [],
   "source": [
    "selected_period = list(result_data.values())[1]\n",
    "\n",
    "max_date = df_sales['Data'].unique().max()\n",
    "min_date = max_date - pd.Timedelta(days=periods[selected_period])"
   ]
  },
  {
   "cell_type": "code",
   "execution_count": 23,
   "id": "da132f60",
   "metadata": {},
   "outputs": [],
   "source": [
    "#Retrieve client information including cluster label\n",
    "customer_info = customers[customers.index == selected_customer]\n",
    "customer_cluster = customer_info['Cluster'].iloc[0]\n",
    "\n",
    "#Filter sales data based on selected client and cluster\n",
    "cluster_customers = customers[(customers['Cluster'] == customer_cluster)].reset_index()"
   ]
  },
  {
   "cell_type": "code",
   "execution_count": 24,
   "id": "cc849842",
   "metadata": {},
   "outputs": [
    {
     "data": {
      "text/html": [
       "<div>\n",
       "<style scoped>\n",
       "    .dataframe tbody tr th:only-of-type {\n",
       "        vertical-align: middle;\n",
       "    }\n",
       "\n",
       "    .dataframe tbody tr th {\n",
       "        vertical-align: top;\n",
       "    }\n",
       "\n",
       "    .dataframe thead th {\n",
       "        text-align: right;\n",
       "    }\n",
       "</style>\n",
       "<table border=\"1\" class=\"dataframe\">\n",
       "  <thead>\n",
       "    <tr style=\"text-align: right;\">\n",
       "      <th></th>\n",
       "      <th>ID_Customer</th>\n",
       "      <th>Business Area</th>\n",
       "      <th>Region</th>\n",
       "      <th>Revenue</th>\n",
       "      <th>OrdFreqPerMonth</th>\n",
       "      <th>Cluster</th>\n",
       "    </tr>\n",
       "  </thead>\n",
       "  <tbody>\n",
       "    <tr>\n",
       "      <th>0</th>\n",
       "      <td>cr000126</td>\n",
       "      <td>0.791218</td>\n",
       "      <td>0.288102</td>\n",
       "      <td>-0.331118</td>\n",
       "      <td>0.227477</td>\n",
       "      <td>6</td>\n",
       "    </tr>\n",
       "    <tr>\n",
       "      <th>1</th>\n",
       "      <td>cr000128</td>\n",
       "      <td>0.791218</td>\n",
       "      <td>0.288102</td>\n",
       "      <td>0.592305</td>\n",
       "      <td>0.703180</td>\n",
       "      <td>6</td>\n",
       "    </tr>\n",
       "    <tr>\n",
       "      <th>2</th>\n",
       "      <td>cr000131</td>\n",
       "      <td>0.791218</td>\n",
       "      <td>-0.678813</td>\n",
       "      <td>-0.204808</td>\n",
       "      <td>0.703180</td>\n",
       "      <td>6</td>\n",
       "    </tr>\n",
       "    <tr>\n",
       "      <th>3</th>\n",
       "      <td>cr000141</td>\n",
       "      <td>0.791218</td>\n",
       "      <td>0.771560</td>\n",
       "      <td>-0.088694</td>\n",
       "      <td>0.227477</td>\n",
       "      <td>6</td>\n",
       "    </tr>\n",
       "    <tr>\n",
       "      <th>4</th>\n",
       "      <td>cr000164</td>\n",
       "      <td>0.791218</td>\n",
       "      <td>1.093865</td>\n",
       "      <td>-0.425781</td>\n",
       "      <td>0.346402</td>\n",
       "      <td>6</td>\n",
       "    </tr>\n",
       "  </tbody>\n",
       "</table>\n",
       "</div>"
      ],
      "text/plain": [
       "  ID_Customer  Business Area    Region   Revenue  OrdFreqPerMonth  Cluster\n",
       "0    cr000126       0.791218  0.288102 -0.331118         0.227477        6\n",
       "1    cr000128       0.791218  0.288102  0.592305         0.703180        6\n",
       "2    cr000131       0.791218 -0.678813 -0.204808         0.703180        6\n",
       "3    cr000141       0.791218  0.771560 -0.088694         0.227477        6\n",
       "4    cr000164       0.791218  1.093865 -0.425781         0.346402        6"
      ]
     },
     "execution_count": 24,
     "metadata": {},
     "output_type": "execute_result"
    }
   ],
   "source": [
    "cluster_customers.head()"
   ]
  },
  {
   "cell_type": "code",
   "execution_count": 25,
   "id": "e0956b5e",
   "metadata": {},
   "outputs": [],
   "source": [
    "#Filtering table by customers\n",
    "df_sales_cf = df_sales.join(cluster_customers.set_index('ID_Customer')['Cluster'], on='ID_Customer', how='right')"
   ]
  },
  {
   "cell_type": "code",
   "execution_count": 26,
   "id": "7b5e6575",
   "metadata": {},
   "outputs": [],
   "source": [
    "#Filtering table by customers + period\n",
    "df_sales_cf = df_sales_cf[(df_sales_cf['Data'] >= min_date)]"
   ]
  },
  {
   "cell_type": "code",
   "execution_count": 27,
   "id": "269aef34",
   "metadata": {},
   "outputs": [
    {
     "data": {
      "text/html": [
       "<div>\n",
       "<style scoped>\n",
       "    .dataframe tbody tr th:only-of-type {\n",
       "        vertical-align: middle;\n",
       "    }\n",
       "\n",
       "    .dataframe tbody tr th {\n",
       "        vertical-align: top;\n",
       "    }\n",
       "\n",
       "    .dataframe thead th {\n",
       "        text-align: right;\n",
       "    }\n",
       "</style>\n",
       "<table border=\"1\" class=\"dataframe\">\n",
       "  <thead>\n",
       "    <tr style=\"text-align: right;\">\n",
       "      <th></th>\n",
       "      <th>ID_Product</th>\n",
       "      <th>ID_Customer</th>\n",
       "      <th>Sales</th>\n",
       "      <th>Revenue</th>\n",
       "      <th>Data</th>\n",
       "      <th>OrdFreqPerMonth</th>\n",
       "      <th>Cluster</th>\n",
       "    </tr>\n",
       "  </thead>\n",
       "  <tbody>\n",
       "    <tr>\n",
       "      <th>22613</th>\n",
       "      <td>it003992</td>\n",
       "      <td>cr000128</td>\n",
       "      <td>1.0</td>\n",
       "      <td>242.0</td>\n",
       "      <td>2022-08-19</td>\n",
       "      <td>19</td>\n",
       "      <td>6</td>\n",
       "    </tr>\n",
       "    <tr>\n",
       "      <th>23051</th>\n",
       "      <td>it002398</td>\n",
       "      <td>cr000128</td>\n",
       "      <td>-1.0</td>\n",
       "      <td>-1610.0</td>\n",
       "      <td>2022-09-21</td>\n",
       "      <td>19</td>\n",
       "      <td>6</td>\n",
       "    </tr>\n",
       "    <tr>\n",
       "      <th>23136</th>\n",
       "      <td>it003136</td>\n",
       "      <td>cr000128</td>\n",
       "      <td>1.0</td>\n",
       "      <td>2457.0</td>\n",
       "      <td>2022-10-21</td>\n",
       "      <td>19</td>\n",
       "      <td>6</td>\n",
       "    </tr>\n",
       "    <tr>\n",
       "      <th>25098</th>\n",
       "      <td>it006847</td>\n",
       "      <td>cr000128</td>\n",
       "      <td>1.0</td>\n",
       "      <td>3034.0</td>\n",
       "      <td>2022-09-09</td>\n",
       "      <td>19</td>\n",
       "      <td>6</td>\n",
       "    </tr>\n",
       "    <tr>\n",
       "      <th>25115</th>\n",
       "      <td>it004701</td>\n",
       "      <td>cr000128</td>\n",
       "      <td>1.0</td>\n",
       "      <td>2693.0</td>\n",
       "      <td>2022-10-22</td>\n",
       "      <td>19</td>\n",
       "      <td>6</td>\n",
       "    </tr>\n",
       "  </tbody>\n",
       "</table>\n",
       "</div>"
      ],
      "text/plain": [
       "      ID_Product ID_Customer  Sales  Revenue       Data  OrdFreqPerMonth  \\\n",
       "22613   it003992    cr000128    1.0    242.0 2022-08-19               19   \n",
       "23051   it002398    cr000128   -1.0  -1610.0 2022-09-21               19   \n",
       "23136   it003136    cr000128    1.0   2457.0 2022-10-21               19   \n",
       "25098   it006847    cr000128    1.0   3034.0 2022-09-09               19   \n",
       "25115   it004701    cr000128    1.0   2693.0 2022-10-22               19   \n",
       "\n",
       "       Cluster  \n",
       "22613        6  \n",
       "23051        6  \n",
       "23136        6  \n",
       "25098        6  \n",
       "25115        6  "
      ]
     },
     "execution_count": 27,
     "metadata": {},
     "output_type": "execute_result"
    }
   ],
   "source": [
    "df_sales_cf.head()"
   ]
  },
  {
   "cell_type": "markdown",
   "id": "c4ab2c00",
   "metadata": {},
   "source": [
    "# Model evaluation"
   ]
  },
  {
   "cell_type": "code",
   "execution_count": 28,
   "id": "3c2f38b1",
   "metadata": {},
   "outputs": [],
   "source": [
    "# Count the number of purchases for each user and product combination\n",
    "purchase_counts = df_sales_cf.groupby(['ID_Customer', 'ID_Product']).size().unstack(fill_value=0)"
   ]
  },
  {
   "cell_type": "code",
   "execution_count": 29,
   "id": "d760b5d1",
   "metadata": {},
   "outputs": [
    {
     "data": {
      "text/html": [
       "<div>\n",
       "<style scoped>\n",
       "    .dataframe tbody tr th:only-of-type {\n",
       "        vertical-align: middle;\n",
       "    }\n",
       "\n",
       "    .dataframe tbody tr th {\n",
       "        vertical-align: top;\n",
       "    }\n",
       "\n",
       "    .dataframe thead th {\n",
       "        text-align: right;\n",
       "    }\n",
       "</style>\n",
       "<table border=\"1\" class=\"dataframe\">\n",
       "  <thead>\n",
       "    <tr style=\"text-align: right;\">\n",
       "      <th>ID_Product</th>\n",
       "      <th>it002111</th>\n",
       "      <th>it002114</th>\n",
       "      <th>it002115</th>\n",
       "      <th>it002117</th>\n",
       "      <th>it002122</th>\n",
       "      <th>it002123</th>\n",
       "      <th>it002128</th>\n",
       "      <th>it002136</th>\n",
       "      <th>it002143</th>\n",
       "      <th>it002152</th>\n",
       "      <th>...</th>\n",
       "      <th>it009161</th>\n",
       "      <th>it009168</th>\n",
       "      <th>it009169</th>\n",
       "      <th>it009170</th>\n",
       "      <th>it009176</th>\n",
       "      <th>it009181</th>\n",
       "      <th>it009188</th>\n",
       "      <th>it009189</th>\n",
       "      <th>it009201</th>\n",
       "      <th>it009203</th>\n",
       "    </tr>\n",
       "    <tr>\n",
       "      <th>ID_Customer</th>\n",
       "      <th></th>\n",
       "      <th></th>\n",
       "      <th></th>\n",
       "      <th></th>\n",
       "      <th></th>\n",
       "      <th></th>\n",
       "      <th></th>\n",
       "      <th></th>\n",
       "      <th></th>\n",
       "      <th></th>\n",
       "      <th></th>\n",
       "      <th></th>\n",
       "      <th></th>\n",
       "      <th></th>\n",
       "      <th></th>\n",
       "      <th></th>\n",
       "      <th></th>\n",
       "      <th></th>\n",
       "      <th></th>\n",
       "      <th></th>\n",
       "      <th></th>\n",
       "    </tr>\n",
       "  </thead>\n",
       "  <tbody>\n",
       "    <tr>\n",
       "      <th>cr000128</th>\n",
       "      <td>0</td>\n",
       "      <td>0</td>\n",
       "      <td>0</td>\n",
       "      <td>0</td>\n",
       "      <td>0</td>\n",
       "      <td>2</td>\n",
       "      <td>0</td>\n",
       "      <td>0</td>\n",
       "      <td>0</td>\n",
       "      <td>0</td>\n",
       "      <td>...</td>\n",
       "      <td>0</td>\n",
       "      <td>0</td>\n",
       "      <td>0</td>\n",
       "      <td>1</td>\n",
       "      <td>0</td>\n",
       "      <td>1</td>\n",
       "      <td>0</td>\n",
       "      <td>0</td>\n",
       "      <td>0</td>\n",
       "      <td>0</td>\n",
       "    </tr>\n",
       "    <tr>\n",
       "      <th>cr000131</th>\n",
       "      <td>0</td>\n",
       "      <td>0</td>\n",
       "      <td>0</td>\n",
       "      <td>0</td>\n",
       "      <td>0</td>\n",
       "      <td>0</td>\n",
       "      <td>0</td>\n",
       "      <td>0</td>\n",
       "      <td>0</td>\n",
       "      <td>0</td>\n",
       "      <td>...</td>\n",
       "      <td>0</td>\n",
       "      <td>0</td>\n",
       "      <td>0</td>\n",
       "      <td>0</td>\n",
       "      <td>0</td>\n",
       "      <td>0</td>\n",
       "      <td>0</td>\n",
       "      <td>0</td>\n",
       "      <td>0</td>\n",
       "      <td>0</td>\n",
       "    </tr>\n",
       "    <tr>\n",
       "      <th>cr000165</th>\n",
       "      <td>0</td>\n",
       "      <td>0</td>\n",
       "      <td>0</td>\n",
       "      <td>0</td>\n",
       "      <td>0</td>\n",
       "      <td>0</td>\n",
       "      <td>0</td>\n",
       "      <td>0</td>\n",
       "      <td>0</td>\n",
       "      <td>0</td>\n",
       "      <td>...</td>\n",
       "      <td>0</td>\n",
       "      <td>0</td>\n",
       "      <td>0</td>\n",
       "      <td>0</td>\n",
       "      <td>1</td>\n",
       "      <td>0</td>\n",
       "      <td>0</td>\n",
       "      <td>0</td>\n",
       "      <td>0</td>\n",
       "      <td>0</td>\n",
       "    </tr>\n",
       "    <tr>\n",
       "      <th>cr000179</th>\n",
       "      <td>0</td>\n",
       "      <td>0</td>\n",
       "      <td>0</td>\n",
       "      <td>0</td>\n",
       "      <td>0</td>\n",
       "      <td>0</td>\n",
       "      <td>0</td>\n",
       "      <td>0</td>\n",
       "      <td>0</td>\n",
       "      <td>0</td>\n",
       "      <td>...</td>\n",
       "      <td>0</td>\n",
       "      <td>0</td>\n",
       "      <td>0</td>\n",
       "      <td>0</td>\n",
       "      <td>0</td>\n",
       "      <td>0</td>\n",
       "      <td>0</td>\n",
       "      <td>0</td>\n",
       "      <td>0</td>\n",
       "      <td>0</td>\n",
       "    </tr>\n",
       "    <tr>\n",
       "      <th>cr000184</th>\n",
       "      <td>0</td>\n",
       "      <td>1</td>\n",
       "      <td>0</td>\n",
       "      <td>0</td>\n",
       "      <td>2</td>\n",
       "      <td>0</td>\n",
       "      <td>0</td>\n",
       "      <td>0</td>\n",
       "      <td>0</td>\n",
       "      <td>1</td>\n",
       "      <td>...</td>\n",
       "      <td>0</td>\n",
       "      <td>0</td>\n",
       "      <td>0</td>\n",
       "      <td>0</td>\n",
       "      <td>4</td>\n",
       "      <td>0</td>\n",
       "      <td>0</td>\n",
       "      <td>0</td>\n",
       "      <td>0</td>\n",
       "      <td>0</td>\n",
       "    </tr>\n",
       "  </tbody>\n",
       "</table>\n",
       "<p>5 rows × 1136 columns</p>\n",
       "</div>"
      ],
      "text/plain": [
       "ID_Product   it002111  it002114  it002115  it002117  it002122  it002123  \\\n",
       "ID_Customer                                                               \n",
       "cr000128            0         0         0         0         0         2   \n",
       "cr000131            0         0         0         0         0         0   \n",
       "cr000165            0         0         0         0         0         0   \n",
       "cr000179            0         0         0         0         0         0   \n",
       "cr000184            0         1         0         0         2         0   \n",
       "\n",
       "ID_Product   it002128  it002136  it002143  it002152  ...  it009161  it009168  \\\n",
       "ID_Customer                                          ...                       \n",
       "cr000128            0         0         0         0  ...         0         0   \n",
       "cr000131            0         0         0         0  ...         0         0   \n",
       "cr000165            0         0         0         0  ...         0         0   \n",
       "cr000179            0         0         0         0  ...         0         0   \n",
       "cr000184            0         0         0         1  ...         0         0   \n",
       "\n",
       "ID_Product   it009169  it009170  it009176  it009181  it009188  it009189  \\\n",
       "ID_Customer                                                               \n",
       "cr000128            0         1         0         1         0         0   \n",
       "cr000131            0         0         0         0         0         0   \n",
       "cr000165            0         0         1         0         0         0   \n",
       "cr000179            0         0         0         0         0         0   \n",
       "cr000184            0         0         4         0         0         0   \n",
       "\n",
       "ID_Product   it009201  it009203  \n",
       "ID_Customer                      \n",
       "cr000128            0         0  \n",
       "cr000131            0         0  \n",
       "cr000165            0         0  \n",
       "cr000179            0         0  \n",
       "cr000184            0         0  \n",
       "\n",
       "[5 rows x 1136 columns]"
      ]
     },
     "execution_count": 29,
     "metadata": {},
     "output_type": "execute_result"
    }
   ],
   "source": [
    "purchase_counts.head()"
   ]
  },
  {
   "cell_type": "code",
   "execution_count": 30,
   "id": "693493d1",
   "metadata": {},
   "outputs": [],
   "source": [
    "# Convert the purchase counts to a sparse matrix\n",
    "sparse_purchase_counts = sparse.csr_matrix(purchase_counts)"
   ]
  },
  {
   "cell_type": "code",
   "execution_count": 31,
   "id": "616b3352",
   "metadata": {},
   "outputs": [
    {
     "data": {
      "text/plain": [
       "<98x1136 sparse matrix of type '<class 'numpy.int64'>'\n",
       "\twith 2516 stored elements in Compressed Sparse Row format>"
      ]
     },
     "execution_count": 31,
     "metadata": {},
     "output_type": "execute_result"
    }
   ],
   "source": [
    "sparse_purchase_counts"
   ]
  },
  {
   "cell_type": "code",
   "execution_count": 32,
   "id": "0f4ba30a",
   "metadata": {},
   "outputs": [],
   "source": [
    "# Compute the cosine similarity matrix between the products\n",
    "cosine_similarities = cosine_similarity(sparse_purchase_counts.T)"
   ]
  },
  {
   "cell_type": "code",
   "execution_count": 33,
   "id": "84de822b",
   "metadata": {},
   "outputs": [
    {
     "data": {
      "text/plain": [
       "array([[1.       , 0.       , 0.       , ..., 0.       , 0.       ,\n",
       "        0.       ],\n",
       "       [0.       , 1.       , 0.       , ..., 0.       , 0.       ,\n",
       "        0.       ],\n",
       "       [0.       , 0.       , 1.       , ..., 0.       , 0.       ,\n",
       "        0.       ],\n",
       "       ...,\n",
       "       [0.       , 0.       , 0.       , ..., 1.       , 0.4472136,\n",
       "        0.4472136],\n",
       "       [0.       , 0.       , 0.       , ..., 0.4472136, 1.       ,\n",
       "        0.       ],\n",
       "       [0.       , 0.       , 0.       , ..., 0.4472136, 0.       ,\n",
       "        1.       ]])"
      ]
     },
     "execution_count": 33,
     "metadata": {},
     "output_type": "execute_result"
    }
   ],
   "source": [
    "cosine_similarities"
   ]
  },
  {
   "cell_type": "markdown",
   "id": "67664c56",
   "metadata": {},
   "source": [
    "# Model prediction"
   ]
  },
  {
   "cell_type": "code",
   "execution_count": 34,
   "id": "98cbd5fe",
   "metadata": {},
   "outputs": [],
   "source": [
    "# Define a function to recommend items for a user based on their purchase history\n",
    "def recommend_items(user_id, n=5):\n",
    "    # Get the user's purchase history\n",
    "    user_history = sparse_purchase_counts[purchase_counts.index.get_loc(user_id)].toarray().flatten()\n",
    "\n",
    "    # Compute the average cosine similarity between the user's purchased items and all other items\n",
    "    similarities = cosine_similarities.dot(user_history)\n",
    "\n",
    "    # Get the indices of the user's purchased items\n",
    "    purchased_indices = np.where(user_history > 0)[0]\n",
    "\n",
    "    # Set the similarity scores for purchased items to 0\n",
    "    similarities[purchased_indices] = 0\n",
    "\n",
    "    # Sort the items by similarity score and return the top n items\n",
    "    recommended_indices = np.argsort(similarities)[::-1][:n]\n",
    "    recommended_items = list(purchase_counts.columns[recommended_indices])\n",
    "    \n",
    "    # Remove the items that the user has already purchased\n",
    "    purchased_items = list(purchase_counts.columns[purchase_counts.loc[user_id] > 0])\n",
    "    recommended_items = [item for item in recommended_items if item not in purchased_items]\n",
    "\n",
    "    return recommended_items"
   ]
  },
  {
   "cell_type": "markdown",
   "id": "ef58666d",
   "metadata": {},
   "source": [
    "# Result"
   ]
  },
  {
   "cell_type": "code",
   "execution_count": 35,
   "id": "fdcf4049",
   "metadata": {},
   "outputs": [
    {
     "name": "stdout",
     "output_type": "stream",
     "text": [
      "For customer #cr000242 recommended items is ['it005636', 'it005638', 'it002203', 'it005563', 'it007271']\n",
      "\n",
      "   ID_Product                                  Product Full Name\n",
      "0   it005636  Autoglass - Mercedes W901-905 Sprinter (высоки...\n",
      "1   it005638             Autoglass - Renault/Dacia Logan - Rear\n",
      "2   it002203  Autoglass - Mercedes W901-905 Sprinter (низкий...\n",
      "3   it005563                 Autoglass - Chevrolet Aveo - Front\n",
      "4   it007271               Autoglass - Skoda Octavia A5 - Front\n"
     ]
    }
   ],
   "source": [
    "try:\n",
    "    print(f'For customer #{selected_customer} recommended items is', recommend_items(selected_customer))\n",
    "    print('\\n',pd.DataFrame(recommend_items(selected_customer), columns=['ID_Product']) \\\n",
    "          .join(df_product.set_index('ID_Product'), on='ID_Product', how='left')[['ID_Product', 'Product Full Name']])\n",
    "except KeyError as e:\n",
    "    print(f\"Error occurred during to not enough data in selected period of customer #{selected_customer} for research.\")"
   ]
  },
  {
   "cell_type": "code",
   "execution_count": null,
   "id": "48855038",
   "metadata": {},
   "outputs": [],
   "source": []
  }
 ],
 "metadata": {
  "kernelspec": {
   "display_name": "Python 3 (ipykernel)",
   "language": "python",
   "name": "python3"
  },
  "language_info": {
   "codemirror_mode": {
    "name": "ipython",
    "version": 3
   },
   "file_extension": ".py",
   "mimetype": "text/x-python",
   "name": "python",
   "nbconvert_exporter": "python",
   "pygments_lexer": "ipython3",
   "version": "3.9.16"
  }
 },
 "nbformat": 4,
 "nbformat_minor": 5
}
