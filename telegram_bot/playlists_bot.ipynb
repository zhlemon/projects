{
 "cells": [
  {
   "cell_type": "code",
   "execution_count": null,
   "id": "793efc12",
   "metadata": {
    "scrolled": false
   },
   "outputs": [],
   "source": [
    "import os\n",
    "import logging\n",
    "import telegram\n",
    "from telegram import Bot\n",
    "from telegram.ext import Updater, CommandHandler, MessageHandler, filters\n",
    "from googleapiclient.discovery import build\n",
    "from googleapiclient.errors import HttpError"
   ]
  },
  {
   "cell_type": "code",
   "execution_count": null,
   "id": "bb55cf6e",
   "metadata": {},
   "outputs": [],
   "source": [
    "# Set up logging\n",
    "logging.basicConfig(format='%(asctime)s - %(name)s - %(levelname)s - %(message)s', level=logging.INFO)\n",
    "logger = logging.getLogger(__name__)\n",
    "\n",
    "TOKEN = '<Telegram token here>'\n",
    "API = '<YouTube developer API here>'\n",
    "# Set up Telegram bot\n",
    "bot = telegram.Bot(TOKEN)\n",
    "# Set up YouTube API client\n",
    "youtube = build('youtube', 'v3', developerKey=API)"
   ]
  },
  {
   "cell_type": "code",
   "execution_count": null,
   "id": "7c4b7dca",
   "metadata": {},
   "outputs": [],
   "source": [
    "def playlist(playlist_id, youtube):\n",
    "    video_response = youtube.playlistItems().list(\n",
    "        playlistId=playlist_id,\n",
    "        part='id,snippet',\n",
    "        maxResults=10\n",
    "    ).execute()\n",
    "    video_links = []\n",
    "    for result in video_response.get('items', []):\n",
    "        video_id = result['snippet']['resourceId']['videoId']\n",
    "        video_title = result['snippet']['title']\n",
    "        video_url = f'https://www.youtube.com/watch?v={video_id}'\n",
    "        video_links.append({'url': video_url, 'title': video_title})\n",
    "    return video_links"
   ]
  },
  {
   "cell_type": "code",
   "execution_count": null,
   "id": "cc3874f5",
   "metadata": {},
   "outputs": [],
   "source": [
    "def start(update, context):\n",
    "    #Send a message when the command /start is issued.\n",
    "    update.message.reply_text('Hi! Please enter the keywords to /search for YouTube playlists. \\n'\n",
    "                              'Use /help command for explanation how to find playlists')\n",
    "\n",
    "def search(update, context):\n",
    "    logging.info(f\"Received update: {update}\")\n",
    "    #Search for YouTube playlists based on user input.\n",
    "    query = ' '.join(context.args)\n",
    "    if not query:\n",
    "        update.message.reply_text('Please enter a valid search query.')\n",
    "        return\n",
    "    search_response = youtube.search().list(\n",
    "        q=query,\n",
    "        type='playlist',\n",
    "        part='id,snippet',\n",
    "        maxResults=5\n",
    "    ).execute()\n",
    "    playlists = []\n",
    "    for result in search_response.get('items', []):\n",
    "        playlist_id = result['id']['playlistId']\n",
    "        playlist_title = result['snippet']['title']\n",
    "        playlists.append({'id': playlist_id, 'title': playlist_title})\n",
    "    if not playlists:\n",
    "        update.message.reply_text('No playlists were found for your search query.')\n",
    "        return\n",
    "    message = 'Here are the search results for your query:\\n'\n",
    "    for pl in playlists:\n",
    "        message += f'{pl[\"title\"]}: https://www.youtube.com/playlist?list={pl[\"id\"]}\\n'\n",
    "    update.message.reply_text(message)\n",
    "    context.user_data['playlists'] = playlists\n",
    "    \n",
    "def help_com(update, context):\n",
    "    help_text = (\n",
    "        \"To search for YouTube playlists, use the /search command followed by a query.\\n\"\n",
    "        \"Example: /search beatport top 100 of house music\\n\"        \n",
    "    )\n",
    "    update.message.reply_text(help_text)\n",
    "\n",
    "def error(update, context):\n",
    "    \"\"\"Log Errors caused by Updates.\"\"\"\n",
    "    logger.warning('Update \"%s\" caused error \"%s\"', update, context.error)"
   ]
  },
  {
   "cell_type": "code",
   "execution_count": null,
   "id": "71328e1c",
   "metadata": {},
   "outputs": [],
   "source": [
    "def main():\n",
    "    updater = Updater(TOKEN)\n",
    "\n",
    "    dispatcher = updater.dispatcher\n",
    "\n",
    "    dispatcher.add_handler(CommandHandler('start', start))\n",
    "    dispatcher.add_handler(CommandHandler('search', search))\n",
    "    dispatcher.add_handler(CommandHandler('help', help_com))\n",
    "    dispatcher.add_error_handler(error)    \n",
    "    # Start the bot.\n",
    "    updater.start_polling()\n",
    "    updater.idle()\n",
    "    \n",
    "if __name__ == '__main__':\n",
    "    main()"
   ]
  },
  {
   "cell_type": "code",
   "execution_count": null,
   "id": "915cc78f",
   "metadata": {},
   "outputs": [],
   "source": []
  }
 ],
 "metadata": {
  "kernelspec": {
   "display_name": "Python 3 (ipykernel)",
   "language": "python",
   "name": "python3"
  },
  "language_info": {
   "codemirror_mode": {
    "name": "ipython",
    "version": 3
   },
   "file_extension": ".py",
   "mimetype": "text/x-python",
   "name": "python",
   "nbconvert_exporter": "python",
   "pygments_lexer": "ipython3",
   "version": "3.9.16"
  }
 },
 "nbformat": 4,
 "nbformat_minor": 5
}
