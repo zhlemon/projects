{
 "cells": [
  {
   "cell_type": "markdown",
   "id": "038aa820",
   "metadata": {},
   "source": [
    "# Automotive glass price prediction model"
   ]
  },
  {
   "cell_type": "code",
   "execution_count": 1,
   "id": "c69d627f",
   "metadata": {},
   "outputs": [],
   "source": [
    "import pandas as pd\n",
    "import numpy as np\n",
    "import seaborn as sns\n",
    "import matplotlib.pyplot as plt\n",
    "from sklearn.linear_model import LassoCV\n",
    "from sklearn.preprocessing import StandardScaler\n",
    "from sklearn.model_selection import train_test_split\n",
    "from sklearn.ensemble import RandomForestRegressor, GradientBoostingRegressor\n",
    "from scipy.stats import randint\n",
    "from sklearn.model_selection import RandomizedSearchCV\n",
    "from datetime import datetime as dt"
   ]
  },
  {
   "cell_type": "code",
   "execution_count": 2,
   "id": "789e5920",
   "metadata": {},
   "outputs": [],
   "source": [
    "#Loading the dataset\n",
    "df = pd.read_excel('price_prediction.xlsx')"
   ]
  },
  {
   "cell_type": "markdown",
   "id": "d26fdfb5",
   "metadata": {},
   "source": [
    "### Understanding the dataset"
   ]
  },
  {
   "cell_type": "code",
   "execution_count": 3,
   "id": "649cc405",
   "metadata": {},
   "outputs": [
    {
     "data": {
      "text/html": [
       "<div>\n",
       "<style scoped>\n",
       "    .dataframe tbody tr th:only-of-type {\n",
       "        vertical-align: middle;\n",
       "    }\n",
       "\n",
       "    .dataframe tbody tr th {\n",
       "        vertical-align: top;\n",
       "    }\n",
       "\n",
       "    .dataframe thead th {\n",
       "        text-align: right;\n",
       "    }\n",
       "</style>\n",
       "<table border=\"1\" class=\"dataframe\">\n",
       "  <thead>\n",
       "    <tr style=\"text-align: right;\">\n",
       "      <th></th>\n",
       "      <th>ЕврокодПолный</th>\n",
       "      <th>Модель название</th>\n",
       "      <th>Модель</th>\n",
       "      <th>Тип стекла</th>\n",
       "      <th>ЦветСтекла</th>\n",
       "      <th>ЦветПолосы</th>\n",
       "      <th>Тип кузова</th>\n",
       "      <th>МестоСтекла</th>\n",
       "      <th>Характеристики</th>\n",
       "      <th>Модификации</th>\n",
       "      <th>Расширение</th>\n",
       "      <th>Остаток</th>\n",
       "      <th>ПродажиГод</th>\n",
       "      <th>Дил Цена USD</th>\n",
       "    </tr>\n",
       "  </thead>\n",
       "  <tbody>\n",
       "    <tr>\n",
       "      <th>0</th>\n",
       "      <td>0001AGNBLV-01</td>\n",
       "      <td>Chevrolet Lumina APV</td>\n",
       "      <td>1</td>\n",
       "      <td>A</td>\n",
       "      <td>GN</td>\n",
       "      <td>BL</td>\n",
       "      <td>NaN</td>\n",
       "      <td>NaN</td>\n",
       "      <td>V</td>\n",
       "      <td>NaN</td>\n",
       "      <td>1</td>\n",
       "      <td>2.0</td>\n",
       "      <td>NaN</td>\n",
       "      <td>97.52</td>\n",
       "    </tr>\n",
       "    <tr>\n",
       "      <th>1</th>\n",
       "      <td>0002AGNBLV-01</td>\n",
       "      <td>Pontiac Trans Sport</td>\n",
       "      <td>2</td>\n",
       "      <td>A</td>\n",
       "      <td>GN</td>\n",
       "      <td>BL</td>\n",
       "      <td>NaN</td>\n",
       "      <td>NaN</td>\n",
       "      <td>V</td>\n",
       "      <td>NaN</td>\n",
       "      <td>1</td>\n",
       "      <td>NaN</td>\n",
       "      <td>NaN</td>\n",
       "      <td>97.52</td>\n",
       "    </tr>\n",
       "    <tr>\n",
       "      <th>2</th>\n",
       "      <td>0003AGNBLV-01</td>\n",
       "      <td>Oldsmobile Silhouette</td>\n",
       "      <td>3</td>\n",
       "      <td>A</td>\n",
       "      <td>GN</td>\n",
       "      <td>BL</td>\n",
       "      <td>NaN</td>\n",
       "      <td>NaN</td>\n",
       "      <td>V</td>\n",
       "      <td>NaN</td>\n",
       "      <td>1</td>\n",
       "      <td>NaN</td>\n",
       "      <td>NaN</td>\n",
       "      <td>97.52</td>\n",
       "    </tr>\n",
       "    <tr>\n",
       "      <th>3</th>\n",
       "      <td>0001LGNV5FD-01</td>\n",
       "      <td>Chevrolet Lumina APV</td>\n",
       "      <td>1</td>\n",
       "      <td>L</td>\n",
       "      <td>GN</td>\n",
       "      <td>NaN</td>\n",
       "      <td>V5</td>\n",
       "      <td>FD</td>\n",
       "      <td>NaN</td>\n",
       "      <td>NaN</td>\n",
       "      <td>1</td>\n",
       "      <td>NaN</td>\n",
       "      <td>NaN</td>\n",
       "      <td>43.61</td>\n",
       "    </tr>\n",
       "    <tr>\n",
       "      <th>4</th>\n",
       "      <td>0002LGNV5FD-01</td>\n",
       "      <td>Pontiac Trans Sport</td>\n",
       "      <td>2</td>\n",
       "      <td>L</td>\n",
       "      <td>GN</td>\n",
       "      <td>NaN</td>\n",
       "      <td>V5</td>\n",
       "      <td>FD</td>\n",
       "      <td>NaN</td>\n",
       "      <td>NaN</td>\n",
       "      <td>1</td>\n",
       "      <td>NaN</td>\n",
       "      <td>NaN</td>\n",
       "      <td>43.61</td>\n",
       "    </tr>\n",
       "  </tbody>\n",
       "</table>\n",
       "</div>"
      ],
      "text/plain": [
       "    ЕврокодПолный        Модель название  Модель Тип стекла ЦветСтекла  \\\n",
       "0   0001AGNBLV-01   Chevrolet Lumina APV       1          A         GN   \n",
       "1   0002AGNBLV-01    Pontiac Trans Sport       2          A         GN   \n",
       "2   0003AGNBLV-01  Oldsmobile Silhouette       3          A         GN   \n",
       "3  0001LGNV5FD-01   Chevrolet Lumina APV       1          L         GN   \n",
       "4  0002LGNV5FD-01    Pontiac Trans Sport       2          L         GN   \n",
       "\n",
       "  ЦветПолосы Тип кузова МестоСтекла Характеристики Модификации  Расширение  \\\n",
       "0         BL        NaN         NaN              V         NaN           1   \n",
       "1         BL        NaN         NaN              V         NaN           1   \n",
       "2         BL        NaN         NaN              V         NaN           1   \n",
       "3        NaN         V5          FD            NaN         NaN           1   \n",
       "4        NaN         V5          FD            NaN         NaN           1   \n",
       "\n",
       "   Остаток  ПродажиГод  Дил Цена USD  \n",
       "0      2.0         NaN         97.52  \n",
       "1      NaN         NaN         97.52  \n",
       "2      NaN         NaN         97.52  \n",
       "3      NaN         NaN         43.61  \n",
       "4      NaN         NaN         43.61  "
      ]
     },
     "execution_count": 3,
     "metadata": {},
     "output_type": "execute_result"
    }
   ],
   "source": [
    "df.head()"
   ]
  },
  {
   "cell_type": "code",
   "execution_count": 4,
   "id": "90d89766",
   "metadata": {},
   "outputs": [],
   "source": [
    "df = df.rename(columns={'ЕврокодПолный' : 'item', 'Модель название' : 'model_name', 'Модель' : 'model', \\\n",
    "                  'Тип стекла' : 'glass_type', 'ЦветСтекла': 'glass_color', 'ЦветПолосы' : 'top_color', \\\n",
    "                  'Тип кузова' : 'body_type', 'МестоСтекла': 'glass_place', 'Характеристики' : 'characteristics', \\\n",
    "                  'Модификации' : 'modifications', 'Расширение' : 'brand', 'Остаток' : 'stock', 'ПродажиГод' : 'sales', \\\n",
    "                  'Дил Цена USD' : 'price'\n",
    "                 })"
   ]
  },
  {
   "cell_type": "code",
   "execution_count": 5,
   "id": "e849d744",
   "metadata": {},
   "outputs": [
    {
     "data": {
      "text/plain": [
       "(10354, 14)"
      ]
     },
     "execution_count": 5,
     "metadata": {},
     "output_type": "execute_result"
    }
   ],
   "source": [
    "df.shape"
   ]
  },
  {
   "cell_type": "code",
   "execution_count": 6,
   "id": "683572ee",
   "metadata": {},
   "outputs": [
    {
     "data": {
      "text/plain": [
       "item                  0\n",
       "model_name            0\n",
       "model                 0\n",
       "glass_type            0\n",
       "glass_color           0\n",
       "brand                 0\n",
       "price               880\n",
       "body_type          4346\n",
       "stock              4956\n",
       "glass_place        5590\n",
       "characteristics    5620\n",
       "sales              6308\n",
       "top_color          8420\n",
       "modifications      8579\n",
       "dtype: int64"
      ]
     },
     "execution_count": 6,
     "metadata": {},
     "output_type": "execute_result"
    }
   ],
   "source": [
    "df.isnull().sum().sort_values()"
   ]
  },
  {
   "cell_type": "code",
   "execution_count": 7,
   "id": "395dba3c",
   "metadata": {},
   "outputs": [
    {
     "name": "stdout",
     "output_type": "stream",
     "text": [
      "<class 'pandas.core.frame.DataFrame'>\n",
      "RangeIndex: 10354 entries, 0 to 10353\n",
      "Data columns (total 14 columns):\n",
      " #   Column           Non-Null Count  Dtype  \n",
      "---  ------           --------------  -----  \n",
      " 0   item             10354 non-null  object \n",
      " 1   model_name       10354 non-null  object \n",
      " 2   model            10354 non-null  int64  \n",
      " 3   glass_type       10354 non-null  object \n",
      " 4   glass_color      10354 non-null  object \n",
      " 5   top_color        1934 non-null   object \n",
      " 6   body_type        6008 non-null   object \n",
      " 7   glass_place      4764 non-null   object \n",
      " 8   characteristics  4734 non-null   object \n",
      " 9   modifications    1775 non-null   object \n",
      " 10  brand            10354 non-null  int64  \n",
      " 11  stock            5398 non-null   float64\n",
      " 12  sales            4046 non-null   float64\n",
      " 13  price            9474 non-null   float64\n",
      "dtypes: float64(3), int64(2), object(9)\n",
      "memory usage: 1.1+ MB\n"
     ]
    }
   ],
   "source": [
    "df.info()"
   ]
  },
  {
   "cell_type": "code",
   "execution_count": 8,
   "id": "e781fc4f",
   "metadata": {},
   "outputs": [
    {
     "data": {
      "text/html": [
       "<div>\n",
       "<style scoped>\n",
       "    .dataframe tbody tr th:only-of-type {\n",
       "        vertical-align: middle;\n",
       "    }\n",
       "\n",
       "    .dataframe tbody tr th {\n",
       "        vertical-align: top;\n",
       "    }\n",
       "\n",
       "    .dataframe thead th {\n",
       "        text-align: right;\n",
       "    }\n",
       "</style>\n",
       "<table border=\"1\" class=\"dataframe\">\n",
       "  <thead>\n",
       "    <tr style=\"text-align: right;\">\n",
       "      <th></th>\n",
       "      <th>model</th>\n",
       "      <th>brand</th>\n",
       "      <th>stock</th>\n",
       "      <th>sales</th>\n",
       "      <th>price</th>\n",
       "    </tr>\n",
       "  </thead>\n",
       "  <tbody>\n",
       "    <tr>\n",
       "      <th>count</th>\n",
       "      <td>10354.000000</td>\n",
       "      <td>10354.000000</td>\n",
       "      <td>5398.000000</td>\n",
       "      <td>4046.000000</td>\n",
       "      <td>9474.000000</td>\n",
       "    </tr>\n",
       "    <tr>\n",
       "      <th>mean</th>\n",
       "      <td>746.872996</td>\n",
       "      <td>2.256906</td>\n",
       "      <td>7.232308</td>\n",
       "      <td>10.030895</td>\n",
       "      <td>59.135109</td>\n",
       "    </tr>\n",
       "    <tr>\n",
       "      <th>std</th>\n",
       "      <td>432.616092</td>\n",
       "      <td>1.450381</td>\n",
       "      <td>20.706176</td>\n",
       "      <td>39.785435</td>\n",
       "      <td>55.069963</td>\n",
       "    </tr>\n",
       "    <tr>\n",
       "      <th>min</th>\n",
       "      <td>1.000000</td>\n",
       "      <td>1.000000</td>\n",
       "      <td>1.000000</td>\n",
       "      <td>-1.000000</td>\n",
       "      <td>0.200000</td>\n",
       "    </tr>\n",
       "    <tr>\n",
       "      <th>25%</th>\n",
       "      <td>358.000000</td>\n",
       "      <td>2.000000</td>\n",
       "      <td>1.000000</td>\n",
       "      <td>1.000000</td>\n",
       "      <td>19.130000</td>\n",
       "    </tr>\n",
       "    <tr>\n",
       "      <th>50%</th>\n",
       "      <td>767.000000</td>\n",
       "      <td>2.000000</td>\n",
       "      <td>3.000000</td>\n",
       "      <td>2.000000</td>\n",
       "      <td>48.360000</td>\n",
       "    </tr>\n",
       "    <tr>\n",
       "      <th>75%</th>\n",
       "      <td>1127.750000</td>\n",
       "      <td>2.000000</td>\n",
       "      <td>6.000000</td>\n",
       "      <td>5.000000</td>\n",
       "      <td>81.610000</td>\n",
       "    </tr>\n",
       "    <tr>\n",
       "      <th>max</th>\n",
       "      <td>1527.000000</td>\n",
       "      <td>14.000000</td>\n",
       "      <td>428.000000</td>\n",
       "      <td>1055.000000</td>\n",
       "      <td>1115.170000</td>\n",
       "    </tr>\n",
       "  </tbody>\n",
       "</table>\n",
       "</div>"
      ],
      "text/plain": [
       "              model         brand        stock        sales        price\n",
       "count  10354.000000  10354.000000  5398.000000  4046.000000  9474.000000\n",
       "mean     746.872996      2.256906     7.232308    10.030895    59.135109\n",
       "std      432.616092      1.450381    20.706176    39.785435    55.069963\n",
       "min        1.000000      1.000000     1.000000    -1.000000     0.200000\n",
       "25%      358.000000      2.000000     1.000000     1.000000    19.130000\n",
       "50%      767.000000      2.000000     3.000000     2.000000    48.360000\n",
       "75%     1127.750000      2.000000     6.000000     5.000000    81.610000\n",
       "max     1527.000000     14.000000   428.000000  1055.000000  1115.170000"
      ]
     },
     "execution_count": 8,
     "metadata": {},
     "output_type": "execute_result"
    }
   ],
   "source": [
    "df.describe()"
   ]
  },
  {
   "cell_type": "markdown",
   "id": "60ec3a22",
   "metadata": {},
   "source": [
    "### Data preprocessing"
   ]
  },
  {
   "cell_type": "code",
   "execution_count": 9,
   "id": "31089ea9",
   "metadata": {},
   "outputs": [],
   "source": [
    "df = df.drop(['stock', 'sales'], axis=1)"
   ]
  },
  {
   "cell_type": "code",
   "execution_count": 10,
   "id": "bd29e259",
   "metadata": {},
   "outputs": [],
   "source": [
    "tr_df = pd.DataFrame(df['price'])\n",
    "df = df.drop(['item', 'model_name', 'price'], axis=1)"
   ]
  },
  {
   "cell_type": "code",
   "execution_count": 11,
   "id": "5481d62c",
   "metadata": {},
   "outputs": [],
   "source": [
    "df = df.fillna(0)"
   ]
  },
  {
   "cell_type": "code",
   "execution_count": 12,
   "id": "c26ade62",
   "metadata": {},
   "outputs": [],
   "source": [
    "tr_df = tr_df.fillna(tr_df['price'].mean())"
   ]
  },
  {
   "cell_type": "code",
   "execution_count": 13,
   "id": "18d5633c",
   "metadata": {},
   "outputs": [],
   "source": [
    "df = df.merge(tr_df, left_index=True, right_index=True)"
   ]
  },
  {
   "cell_type": "code",
   "execution_count": 14,
   "id": "81077268",
   "metadata": {},
   "outputs": [],
   "source": [
    "modl = pd.get_dummies(df.model)\n",
    "modl.columns = ['model' + str(col) for col in modl.columns]\n",
    "df = df.join(modl)\n",
    "df = df.drop('model', axis=1)"
   ]
  },
  {
   "cell_type": "code",
   "execution_count": 15,
   "id": "b15a6fe3",
   "metadata": {},
   "outputs": [],
   "source": [
    "glass_typ = pd.get_dummies(df.glass_type)\n",
    "glass_typ.columns = ['glass_type' + str(col) for col in glass_typ.columns]\n",
    "df = df.join(glass_typ)\n",
    "df = df.drop('glass_type', axis=1)"
   ]
  },
  {
   "cell_type": "code",
   "execution_count": 16,
   "id": "8058f2e1",
   "metadata": {},
   "outputs": [],
   "source": [
    "glass_col = pd.get_dummies(df.glass_color)\n",
    "glass_col.columns = ['glass_color' + str(col) for col in glass_col.columns]\n",
    "df = df.join(glass_col)\n",
    "df = df.drop('glass_color', axis=1)"
   ]
  },
  {
   "cell_type": "code",
   "execution_count": 17,
   "id": "b7f4ebd5",
   "metadata": {},
   "outputs": [],
   "source": [
    "top_col = pd.get_dummies(df.top_color)\n",
    "top_col.columns = ['top_color' + str(col) for col in top_col.columns]\n",
    "df = df.join(top_col)\n",
    "df = df.drop('top_color', axis=1)"
   ]
  },
  {
   "cell_type": "code",
   "execution_count": 18,
   "id": "480a7e2d",
   "metadata": {},
   "outputs": [],
   "source": [
    "body_t = pd.get_dummies(df.body_type)\n",
    "body_t.columns = ['body_type' + str(col) for col in body_t.columns]\n",
    "df = df.join(body_t)\n",
    "df = df.drop('body_type', axis=1)"
   ]
  },
  {
   "cell_type": "code",
   "execution_count": 19,
   "id": "f190dc61",
   "metadata": {},
   "outputs": [],
   "source": [
    "glass_p = pd.get_dummies(df.glass_place)\n",
    "glass_p.columns = ['glass_place' + str(col) for col in glass_p.columns]\n",
    "df = df.join(glass_p)\n",
    "df = df.drop('glass_place', axis=1)"
   ]
  },
  {
   "cell_type": "code",
   "execution_count": 20,
   "id": "3140f05d",
   "metadata": {},
   "outputs": [],
   "source": [
    "charact = pd.get_dummies(df.characteristics)\n",
    "charact.columns = ['characteristics' + str(col) for col in charact.columns]\n",
    "df = df.join(charact)\n",
    "df = df.drop('characteristics', axis=1)"
   ]
  },
  {
   "cell_type": "code",
   "execution_count": 21,
   "id": "ee1336ea",
   "metadata": {},
   "outputs": [],
   "source": [
    "modif = pd.get_dummies(df.modifications)\n",
    "modif.columns = ['modifications' + str(col) for col in modif.columns]\n",
    "df = df.join(modif)\n",
    "df = df.drop('modifications', axis=1)"
   ]
  },
  {
   "cell_type": "code",
   "execution_count": 22,
   "id": "7acdc3be",
   "metadata": {},
   "outputs": [],
   "source": [
    "brd = pd.get_dummies(df.brand)\n",
    "brd.columns = ['brand' + str(col) for col in brd.columns]\n",
    "df = df.join(brd)\n",
    "df = df.drop('brand', axis=1)"
   ]
  },
  {
   "cell_type": "markdown",
   "id": "e6eaa6d8",
   "metadata": {},
   "source": [
    "### Building a regression model"
   ]
  },
  {
   "cell_type": "code",
   "execution_count": 23,
   "id": "7ec5beab",
   "metadata": {},
   "outputs": [],
   "source": [
    "#do not use because of calculation time\n",
    "#df.corr()"
   ]
  },
  {
   "cell_type": "code",
   "execution_count": 24,
   "id": "9cbcd3c4",
   "metadata": {},
   "outputs": [],
   "source": [
    "#do not use because of calculation time\n",
    "#price_corr = df.corr()['price'].apply(abs).sort_values()\n",
    "#price_corr"
   ]
  },
  {
   "cell_type": "code",
   "execution_count": 25,
   "id": "e6147bf2",
   "metadata": {},
   "outputs": [],
   "source": [
    "X_LassoCV = df.drop('price', axis=1)\n",
    "y_LassoCV = df['price']"
   ]
  },
  {
   "cell_type": "code",
   "execution_count": 26,
   "id": "2c6a9b77",
   "metadata": {},
   "outputs": [
    {
     "name": "stdout",
     "output_type": "stream",
     "text": [
      "Best score using built-in LassoCV: 0.767479\n"
     ]
    }
   ],
   "source": [
    "#L1-regularization\n",
    "reg = LassoCV()\n",
    "reg.fit(X_LassoCV, y_LassoCV)\n",
    "print(\"Best score using built-in LassoCV: %f\" % reg.score(X_LassoCV, y_LassoCV))"
   ]
  },
  {
   "cell_type": "code",
   "execution_count": 27,
   "id": "080608c6",
   "metadata": {},
   "outputs": [
    {
     "name": "stdout",
     "output_type": "stream",
     "text": [
      "Lasso picked 255 variables and eliminated the other 1734 variables\n"
     ]
    }
   ],
   "source": [
    "coef = pd.Series(reg.coef_, index = X_LassoCV.columns)\n",
    "best_features = sum(coef != 0)\n",
    "print(\"Lasso picked \" + str(sum(coef != 0)) + \" variables and eliminated the other \" +  str(sum(coef == 0)) + \" variables\")"
   ]
  },
  {
   "cell_type": "code",
   "execution_count": 28,
   "id": "7ca523f3",
   "metadata": {},
   "outputs": [],
   "source": [
    "imp_coef = coef.apply(abs).sort_values()\n",
    "features = imp_coef[-best_features:].index\n",
    "features = list(features)"
   ]
  },
  {
   "cell_type": "code",
   "execution_count": 29,
   "id": "41fdfd41",
   "metadata": {},
   "outputs": [
    {
     "data": {
      "text/html": [
       "<div>\n",
       "<style scoped>\n",
       "    .dataframe tbody tr th:only-of-type {\n",
       "        vertical-align: middle;\n",
       "    }\n",
       "\n",
       "    .dataframe tbody tr th {\n",
       "        vertical-align: top;\n",
       "    }\n",
       "\n",
       "    .dataframe thead th {\n",
       "        text-align: right;\n",
       "    }\n",
       "</style>\n",
       "<table border=\"1\" class=\"dataframe\">\n",
       "  <thead>\n",
       "    <tr style=\"text-align: right;\">\n",
       "      <th></th>\n",
       "      <th>model1273</th>\n",
       "      <th>glass_colorBL</th>\n",
       "      <th>model439</th>\n",
       "      <th>model237</th>\n",
       "      <th>model830</th>\n",
       "      <th>model353</th>\n",
       "      <th>body_typeS</th>\n",
       "      <th>model342</th>\n",
       "      <th>model462</th>\n",
       "      <th>model1250</th>\n",
       "      <th>...</th>\n",
       "      <th>characteristicsHMOVZ</th>\n",
       "      <th>characteristicsCMUVW</th>\n",
       "      <th>characteristicsUVW</th>\n",
       "      <th>characteristicsCMUVZ</th>\n",
       "      <th>characteristicsCMUV</th>\n",
       "      <th>characteristicsCJMUVZ</th>\n",
       "      <th>characteristicsMUV</th>\n",
       "      <th>model917</th>\n",
       "      <th>model1365</th>\n",
       "      <th>price</th>\n",
       "    </tr>\n",
       "  </thead>\n",
       "  <tbody>\n",
       "    <tr>\n",
       "      <th>0</th>\n",
       "      <td>0</td>\n",
       "      <td>0</td>\n",
       "      <td>0</td>\n",
       "      <td>0</td>\n",
       "      <td>0</td>\n",
       "      <td>0</td>\n",
       "      <td>0</td>\n",
       "      <td>0</td>\n",
       "      <td>0</td>\n",
       "      <td>0</td>\n",
       "      <td>...</td>\n",
       "      <td>0</td>\n",
       "      <td>0</td>\n",
       "      <td>0</td>\n",
       "      <td>0</td>\n",
       "      <td>0</td>\n",
       "      <td>0</td>\n",
       "      <td>0</td>\n",
       "      <td>0</td>\n",
       "      <td>0</td>\n",
       "      <td>97.52</td>\n",
       "    </tr>\n",
       "    <tr>\n",
       "      <th>1</th>\n",
       "      <td>0</td>\n",
       "      <td>0</td>\n",
       "      <td>0</td>\n",
       "      <td>0</td>\n",
       "      <td>0</td>\n",
       "      <td>0</td>\n",
       "      <td>0</td>\n",
       "      <td>0</td>\n",
       "      <td>0</td>\n",
       "      <td>0</td>\n",
       "      <td>...</td>\n",
       "      <td>0</td>\n",
       "      <td>0</td>\n",
       "      <td>0</td>\n",
       "      <td>0</td>\n",
       "      <td>0</td>\n",
       "      <td>0</td>\n",
       "      <td>0</td>\n",
       "      <td>0</td>\n",
       "      <td>0</td>\n",
       "      <td>97.52</td>\n",
       "    </tr>\n",
       "    <tr>\n",
       "      <th>2</th>\n",
       "      <td>0</td>\n",
       "      <td>0</td>\n",
       "      <td>0</td>\n",
       "      <td>0</td>\n",
       "      <td>0</td>\n",
       "      <td>0</td>\n",
       "      <td>0</td>\n",
       "      <td>0</td>\n",
       "      <td>0</td>\n",
       "      <td>0</td>\n",
       "      <td>...</td>\n",
       "      <td>0</td>\n",
       "      <td>0</td>\n",
       "      <td>0</td>\n",
       "      <td>0</td>\n",
       "      <td>0</td>\n",
       "      <td>0</td>\n",
       "      <td>0</td>\n",
       "      <td>0</td>\n",
       "      <td>0</td>\n",
       "      <td>97.52</td>\n",
       "    </tr>\n",
       "    <tr>\n",
       "      <th>3</th>\n",
       "      <td>0</td>\n",
       "      <td>0</td>\n",
       "      <td>0</td>\n",
       "      <td>0</td>\n",
       "      <td>0</td>\n",
       "      <td>0</td>\n",
       "      <td>0</td>\n",
       "      <td>0</td>\n",
       "      <td>0</td>\n",
       "      <td>0</td>\n",
       "      <td>...</td>\n",
       "      <td>0</td>\n",
       "      <td>0</td>\n",
       "      <td>0</td>\n",
       "      <td>0</td>\n",
       "      <td>0</td>\n",
       "      <td>0</td>\n",
       "      <td>0</td>\n",
       "      <td>0</td>\n",
       "      <td>0</td>\n",
       "      <td>43.61</td>\n",
       "    </tr>\n",
       "    <tr>\n",
       "      <th>4</th>\n",
       "      <td>0</td>\n",
       "      <td>0</td>\n",
       "      <td>0</td>\n",
       "      <td>0</td>\n",
       "      <td>0</td>\n",
       "      <td>0</td>\n",
       "      <td>0</td>\n",
       "      <td>0</td>\n",
       "      <td>0</td>\n",
       "      <td>0</td>\n",
       "      <td>...</td>\n",
       "      <td>0</td>\n",
       "      <td>0</td>\n",
       "      <td>0</td>\n",
       "      <td>0</td>\n",
       "      <td>0</td>\n",
       "      <td>0</td>\n",
       "      <td>0</td>\n",
       "      <td>0</td>\n",
       "      <td>0</td>\n",
       "      <td>43.61</td>\n",
       "    </tr>\n",
       "  </tbody>\n",
       "</table>\n",
       "<p>5 rows × 256 columns</p>\n",
       "</div>"
      ],
      "text/plain": [
       "   model1273  glass_colorBL  model439  model237  model830  model353  \\\n",
       "0          0              0         0         0         0         0   \n",
       "1          0              0         0         0         0         0   \n",
       "2          0              0         0         0         0         0   \n",
       "3          0              0         0         0         0         0   \n",
       "4          0              0         0         0         0         0   \n",
       "\n",
       "   body_typeS  model342  model462  model1250  ...  characteristicsHMOVZ  \\\n",
       "0           0         0         0          0  ...                     0   \n",
       "1           0         0         0          0  ...                     0   \n",
       "2           0         0         0          0  ...                     0   \n",
       "3           0         0         0          0  ...                     0   \n",
       "4           0         0         0          0  ...                     0   \n",
       "\n",
       "   characteristicsCMUVW  characteristicsUVW  characteristicsCMUVZ  \\\n",
       "0                     0                   0                     0   \n",
       "1                     0                   0                     0   \n",
       "2                     0                   0                     0   \n",
       "3                     0                   0                     0   \n",
       "4                     0                   0                     0   \n",
       "\n",
       "   characteristicsCMUV  characteristicsCJMUVZ  characteristicsMUV  model917  \\\n",
       "0                    0                      0                   0         0   \n",
       "1                    0                      0                   0         0   \n",
       "2                    0                      0                   0         0   \n",
       "3                    0                      0                   0         0   \n",
       "4                    0                      0                   0         0   \n",
       "\n",
       "   model1365  price  \n",
       "0          0  97.52  \n",
       "1          0  97.52  \n",
       "2          0  97.52  \n",
       "3          0  43.61  \n",
       "4          0  43.61  \n",
       "\n",
       "[5 rows x 256 columns]"
      ]
     },
     "execution_count": 29,
     "metadata": {},
     "output_type": "execute_result"
    }
   ],
   "source": [
    "new_df = df[features]\n",
    "new_df = new_df.merge(tr_df, left_index=True, right_index=True)\n",
    "new_df.head()"
   ]
  },
  {
   "cell_type": "code",
   "execution_count": 30,
   "id": "4846998d",
   "metadata": {},
   "outputs": [
    {
     "data": {
      "text/plain": [
       "<AxesSubplot:>"
      ]
     },
     "execution_count": 30,
     "metadata": {},
     "output_type": "execute_result"
    },
    {
     "data": {
      "image/png": "[encoded data removed]",
      "text/plain": [
       "<Figure size 1500x1500 with 2 Axes>"
      ]
     },
     "metadata": {},
     "output_type": "display_data"
    }
   ],
   "source": [
    "# just sample of heatmap correlation of top-10 features\n",
    "plt.figure(figsize=(15, 15))\n",
    "sns.heatmap(new_df.iloc[:,-10:].corr(), annot=True, cmap='YlGnBu')"
   ]
  },
  {
   "cell_type": "code",
   "execution_count": 31,
   "id": "970a965b",
   "metadata": {},
   "outputs": [],
   "source": [
    "X = new_df.drop('price', axis=1)\n",
    "y = new_df['price']\n",
    "SEED=100\n",
    "X_train, X_test, y_train, y_test = train_test_split(X, y, test_size=0.3, random_state=SEED)"
   ]
  },
  {
   "cell_type": "code",
   "execution_count": 32,
   "id": "bffe1c15",
   "metadata": {},
   "outputs": [],
   "source": [
    "scaler = StandardScaler()\n",
    "X_sc = scaler.fit_transform(X_LassoCV)\n",
    "X_train_sc = scaler.fit_transform(X_train)\n",
    "X_test_sc = scaler.transform(X_test)"
   ]
  },
  {
   "cell_type": "markdown",
   "id": "19955a82",
   "metadata": {},
   "source": [
    "### Model evaluation"
   ]
  },
  {
   "cell_type": "code",
   "execution_count": 33,
   "id": "048709cc",
   "metadata": {},
   "outputs": [],
   "source": [
    "rf_model = RandomForestRegressor(random_state=SEED, n_estimators=1000, n_jobs=-1)"
   ]
  },
  {
   "cell_type": "code",
   "execution_count": 34,
   "id": "4d253d4f",
   "metadata": {},
   "outputs": [
    {
     "name": "stdout",
     "output_type": "stream",
     "text": [
      "Time of evaluation model is: 1.1  m\n"
     ]
    }
   ],
   "source": [
    "start = dt.now()\n",
    "rf_model.fit(X_train_sc, y_train)\n",
    "rf_model.score(X_test_sc, y_test)\n",
    "running_secs = (dt.now() - start).seconds\n",
    "print('Time of evaluation model is:', round(running_secs/60, 2), ' m')"
   ]
  },
  {
   "cell_type": "markdown",
   "id": "d3e86a65",
   "metadata": {},
   "source": [
    "### Model prediction"
   ]
  },
  {
   "cell_type": "code",
   "execution_count": 35,
   "id": "fe419587",
   "metadata": {},
   "outputs": [
    {
     "data": {
      "text/plain": [
       "0.7112308299497087"
      ]
     },
     "execution_count": 35,
     "metadata": {},
     "output_type": "execute_result"
    }
   ],
   "source": [
    "y_pred = rf_model.predict(X_test_sc)\n",
    "rf_model.score(X_test_sc, y_test)"
   ]
  },
  {
   "cell_type": "code",
   "execution_count": 36,
   "id": "6a4d75fe",
   "metadata": {},
   "outputs": [
    {
     "data": {
      "text/plain": [
       "65.58"
      ]
     },
     "execution_count": 36,
     "metadata": {},
     "output_type": "execute_result"
    }
   ],
   "source": [
    "y_test.iloc[0]"
   ]
  },
  {
   "cell_type": "code",
   "execution_count": 37,
   "id": "c0551833",
   "metadata": {},
   "outputs": [
    {
     "data": {
      "text/plain": [
       "65.99"
      ]
     },
     "execution_count": 37,
     "metadata": {},
     "output_type": "execute_result"
    }
   ],
   "source": [
    "round(y_pred[0], 2)"
   ]
  },
  {
   "cell_type": "code",
   "execution_count": null,
   "id": "8b96d0d9",
   "metadata": {},
   "outputs": [],
   "source": []
  },
  {
   "cell_type": "code",
   "execution_count": null,
   "id": "4fc2e083",
   "metadata": {},
   "outputs": [],
   "source": []
  }
 ],
 "metadata": {
  "kernelspec": {
   "display_name": "Python 3 (ipykernel)",
   "language": "python",
   "name": "python3"
  },
  "language_info": {
   "codemirror_mode": {
    "name": "ipython",
    "version": 3
   },
   "file_extension": ".py",
   "mimetype": "text/x-python",
   "name": "python",
   "nbconvert_exporter": "python",
   "pygments_lexer": "ipython3",
   "version": "3.9.13"
  }
 },
 "nbformat": 4,
 "nbformat_minor": 5
}
